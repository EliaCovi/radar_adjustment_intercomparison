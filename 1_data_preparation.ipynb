{
 "cells": [
  {
   "cell_type": "markdown",
   "id": "9e8629e9-a534-43b1-b0a2-6d6f0a6df943",
   "metadata": {},
   "source": [
    "# 1. Data preparation\n",
    "This notebook \n",
    "* downloads the used CML datasets [OpenMRG (Andersson et al. 2022)]() and [OpenRainER (Covi&Roversi 2023)](https://zenodo.org/records/10610886)\n",
    "* transform the into a common data format  \n",
    "* shows some statisitcs and comparisons of the CML and reference data\n",
    "\n",
    "As result, the cml datasets are ready for processing and the reference data from gauges and radar are already in their final resolution of 15 minutes for evaluation. Radar rainfall along the CML paths is computed and CML-rain gauges pairs within a distance of 2km are selected."
   ]
  },
  {
   "cell_type": "code",
   "execution_count": 1,
   "id": "f583a92c-71da-43c8-8238-34d9ebe4ff31",
   "metadata": {},
   "outputs": [],
   "source": [
    "import xarray as xr\n",
    "import matplotlib.pyplot as plt\n",
    "from tqdm import tqdm\n",
    "import numpy as np\n",
    "import opensense_data_downloader_and_transformer as oddt\n",
    "import pycomlink as pycml\n",
    "import glob as glob\n",
    "import pandas as pd\n",
    "import poligrain as plg\n",
    "import pyproj\n",
    "import gzip\n",
    "import zipfile\n",
    "import shutil\n",
    "import os"
   ]
  },
  {
   "cell_type": "markdown",
   "id": "9d049ea2-4b5a-4a91-b44c-ffc7d234649c",
   "metadata": {},
   "source": [
    "## 1.1 OpenMRG"
   ]
  },
  {
   "cell_type": "markdown",
   "id": "3ad81ae9-0dee-452c-9270-2dd0a0f42f3a",
   "metadata": {},
   "source": [
    "#### Download OpenMRG dataset with code from [OepnSense sandbox](link) and transform to the data format standards given in [Fencl et al. 2023](https://open-research-europe.ec.europa.eu/articles/3-169)."
   ]
  },
  {
   "cell_type": "code",
   "execution_count": 2,
   "id": "67d6362e-0b53-4e1f-96bc-969599e4fa5e",
   "metadata": {},
   "outputs": [
    {
     "name": "stdout",
     "output_type": "stream",
     "text": [
      "File already exists at desired location data/andersson_2022_OpenMRG/OpenMRG.zip\n",
      "Not downloading!\n"
     ]
    }
   ],
   "source": [
    "# function from OpenSense sandbox \n",
    "oddt.download_andersson_2022_OpenMRG(\n",
    "    local_path=\"data/andersson_2022_OpenMRG/\", print_output=True\n",
    ")"
   ]
  },
  {
   "cell_type": "code",
   "execution_count": 3,
   "id": "f4fb616f-877c-4f98-9f82-76071796daf5",
   "metadata": {},
   "outputs": [
    {
     "name": "stderr",
     "output_type": "stream",
     "text": [
      "/bg/home/graf-m/notebooks/cml_method_comparison/waa_comparison/repo/opensense_data_downloader_and_transformer.py:303: FutureWarning: the `pandas.MultiIndex` object(s) passed as 'sublink' coordinate(s) or data variable(s) will no longer be implicitly promoted and wrapped into multiple indexed coordinates in the future (i.e., one coordinate for each multi-index level + one dimension coordinate). If you want to keep this behavior, you need to first wrap it explicitly using `mindex_coords = xarray.Coordinates.from_pandas_multiindex(mindex_obj, 'dim')` and pass it as coordinates, e.g., `xarray.Dataset(coords=mindex_coords)`, `dataset.assign_coords(mindex_coords)` or `dataarray.assign_coords(mindex_coords)`.\n",
      "  ds_multindex = ds.assign_coords({'sublink':df_metadata.index})\n"
     ]
    }
   ],
   "source": [
    "# function from OpenSense sandbox\n",
    "ds_cml = oddt.transform_andersson_2022_OpenMRG(\n",
    "    fn=\"data/andersson_2022_OpenMRG/OpenMRG.zip\",\n",
    "    path_to_extract_to=\"data/andersson_2022_OpenMRG/\",\n",
    "    time_start_end=(\n",
    "        \"2015-06-01\",\n",
    "        None,\n",
    "    ),  \n",
    "    restructure_data=True,\n",
    ")"
   ]
  },
  {
   "cell_type": "markdown",
   "id": "4f3cbe9c-7e97-4ea9-948a-f2e02b43e296",
   "metadata": {},
   "source": [
    "#### Merge city and smhi gauges with 15 min aggregation as a wet-dry classification reference"
   ]
  },
  {
   "cell_type": "code",
   "execution_count": 4,
   "id": "dc13f35b-31e2-405c-bbc9-2724d6c293fd",
   "metadata": {},
   "outputs": [],
   "source": [
    "df_gauges_city = pd.read_csv(\n",
    "    \"data/andersson_2022_OpenMRG/gauges/city/CityGauges-2015JJA.csv\",\n",
    "    index_col=0,\n",
    "    parse_dates=True,\n",
    ")\n",
    "\n",
    "df_gauges_city_metadata = pd.read_csv(\n",
    "    \"/pd/home/graf-m/notebooks/cml_method_comparison/gauges/city/CityGauges-metadata.csv\",\n",
    "    index_col=0,\n",
    ")"
   ]
  },
  {
   "cell_type": "code",
   "execution_count": 5,
   "id": "2338d4cc-ef4f-4ddf-97da-65d91667d2c4",
   "metadata": {},
   "outputs": [],
   "source": [
    "ds_gauges_city_org = xr.Dataset(\n",
    "    data_vars=dict(\n",
    "        rainfall_amount=([\"id\", \"time\"], df_gauges_city.T),\n",
    "    ),\n",
    "    coords=dict(\n",
    "        id=df_gauges_city_metadata.index.values,\n",
    "        time=df_gauges_city.index.values,\n",
    "        longitude=([\"id\"], df_gauges_city_metadata.Longitude_DecDeg),\n",
    "        latitude=([\"id\"], df_gauges_city_metadata.Latitude_DecDeg),\n",
    "        location=([\"id\"], df_gauges_city_metadata.Location),\n",
    "        type=([\"id\"], df_gauges_city_metadata.Type),\n",
    "        quantization=([\"id\"], df_gauges_city_metadata[\"Resolution (mm)\"]),\n",
    "    ),\n",
    ")\n",
    "ds_gauges_city = ds_gauges_city_org.resample(time=\"15min\", label=\"right\").sum()"
   ]
  },
  {
   "cell_type": "code",
   "execution_count": 6,
   "id": "38a3dbe2-e123-410a-a340-961d202cbfc9",
   "metadata": {},
   "outputs": [],
   "source": [
    "df_gauge_smhi = pd.read_csv(\n",
    "    \"/pd/home/graf-m/notebooks/cml_method_comparison/gauges/smhi/GbgA-71420-2015JJA.csv\",\n",
    "    index_col=0,\n",
    "    parse_dates=True,\n",
    ")\n",
    "\n",
    "\n",
    "ds_gauges_smhi = xr.Dataset(\n",
    "    data_vars=dict(\n",
    "        rainfall_amount=([\"id\", \"time\"], [df_gauge_smhi.Pvol_mm.values]),\n",
    "    ),\n",
    "    coords=dict(\n",
    "        id=[\"SMHI\"],\n",
    "        time=df_gauge_smhi.index.values,\n",
    "        longitude=([\"id\"], [11.9924]),\n",
    "        latitude=([\"id\"], [57.7156]),\n",
    "        location=([\"id\"], [\"Goeteburg A\"]),\n",
    "        type=([\"id\"], [\"15 min rainfall sum\"]),\n",
    "        quantization=([\"id\"], [0.1]),\n",
    "    ),\n",
    ")"
   ]
  },
  {
   "cell_type": "code",
   "execution_count": 7,
   "id": "2364ab26-c472-4b13-9e2f-f3ef2ea17b3a",
   "metadata": {},
   "outputs": [],
   "source": [
    "ds_gauges = xr.concat([ds_gauges_city, ds_gauges_smhi], dim=\"id\")\n",
    "ds_gauges = ds_gauges.sel(time=slice(ds_cml.time.min(),ds_cml.time.max()))"
   ]
  },
  {
   "cell_type": "markdown",
   "id": "c658a15a-93ff-459d-a2bc-e7b80b30033f",
   "metadata": {},
   "source": [
    "#### Calculate distance between city rain gauges and CML center points and compute closest neighbors"
   ]
  },
  {
   "cell_type": "code",
   "execution_count": 8,
   "id": "51e6b868-0683-4d6e-8ab3-605b0de39ad6",
   "metadata": {},
   "outputs": [],
   "source": [
    "# Project coordinates for rain gauges\n",
    "ds_gauges.coords[\"x\"], ds_gauges.coords[\"y\"] = plg.spatial.project_point_coordinates(\n",
    "    ds_gauges.longitude, ds_gauges.latitude, \"EPSG:25832\"\n",
    ")\n",
    "\n",
    "# Project coordinates for CMLs\n",
    "(\n",
    "    ds_cml.coords[\"site_0_x\"],\n",
    "    ds_cml.coords[\"site_0_y\"],\n",
    ") = plg.spatial.project_point_coordinates(\n",
    "    ds_cml.site_0_lon, ds_cml.site_0_lat, \"EPSG:25832\"\n",
    ")\n",
    "(\n",
    "    ds_cml.coords[\"site_1_x\"],\n",
    "    ds_cml.coords[\"site_1_y\"],\n",
    ") = plg.spatial.project_point_coordinates(\n",
    "    ds_cml.site_1_lon, ds_cml.site_1_lat, \"EPSG:25832\"\n",
    ")"
   ]
  },
  {
   "cell_type": "code",
   "execution_count": 9,
   "id": "5e0c1800-cb40-4a3d-a1c2-5965cc60a085",
   "metadata": {},
   "outputs": [],
   "source": [
    "ds_gauges=ds_gauges.reindex(time=pd.date_range(\n",
    "    \"2015-06-01T00:00:00\",\n",
    "    \"2015-08-31T23:45:00\",freq=\"15min\"), fill_value=np.nan)\n"
   ]
  },
  {
   "cell_type": "code",
   "execution_count": 10,
   "id": "7f466e69-69dc-4820-b379-e43c6cda994b",
   "metadata": {},
   "outputs": [],
   "source": [
    "max_distance = 2000  # in meters due to the projection EPSG:25832\n",
    "closest_neigbors = plg.spatial.get_closest_points_to_line(\n",
    "    ds_cml, ds_gauges.rainfall_amount, max_distance=max_distance, n_closest=1\n",
    ")"
   ]
  },
  {
   "cell_type": "code",
   "execution_count": 11,
   "id": "31744bbd-fcd0-47a3-96ce-88af19e1b26a",
   "metadata": {},
   "outputs": [],
   "source": [
    "# remove all cml - gauge pairs that are not within 2 km\n",
    "closest_neigbors = closest_neigbors.where(closest_neigbors.neighbor_id != None,drop=True)"
   ]
  },
  {
   "cell_type": "markdown",
   "id": "e8af17b5-f70f-4783-bea1-25acc2c30d87",
   "metadata": {},
   "source": [
    "#### Each CML gets the wet-dry time series of the nearest rain gauge as reference\n",
    "Using the 1 min city gauge data results in too many individual rain events. I tried different paddings and the 15 minute aggregation looked good in several time series. This means that the SMHI rain gauge can be used analog. "
   ]
  },
  {
   "cell_type": "code",
   "execution_count": 12,
   "id": "8a8d11d3-1a36-4ad8-9a43-040d52025687",
   "metadata": {},
   "outputs": [],
   "source": [
    "# getting the rain gauge time series from the nearest rain gauge for each CML (within 2 km)\n",
    "reference_15min = (\n",
    "    xr.full_like(ds_cml.rsl, fill_value=np.nan)\n",
    "    .resample(time=\"15min\")\n",
    "    .first()\n",
    "    .where(ds_gauges.time.dt.month.isin([6, 7, 8]), drop=True)\n",
    ")"
   ]
  },
  {
   "cell_type": "code",
   "execution_count": 13,
   "id": "fad14d1e-0876-40ba-bb02-d13d079410ac",
   "metadata": {},
   "outputs": [
    {
     "name": "stderr",
     "output_type": "stream",
     "text": [
      "100%|██████████████████████████████████████████████████████████████████████████████████████████████████████████████████████████████████| 150/150 [00:00<00:00, 349.95it/s]\n"
     ]
    }
   ],
   "source": [
    "for cmlid in tqdm(closest_neigbors.cml_id):\n",
    "    tmp_ga_rain = ds_gauges.sel(time=reference_15min.time).sel(id=closest_neigbors.sel(cml_id=cmlid).neighbor_id.values).rainfall_amount.values.flatten()\n",
    "    tmp_ga_rain = np.stack([tmp_ga_rain, tmp_ga_rain], axis=1)    \n",
    "    \n",
    "    reference_15min.loc[dict(cml_id=cmlid)][:] = tmp_ga_rain"
   ]
  },
  {
   "cell_type": "code",
   "execution_count": 14,
   "id": "478e084c-712d-4791-93a5-abc5a4270147",
   "metadata": {},
   "outputs": [],
   "source": [
    "reference_15min=reference_15min.to_dataset(name=\"rain_gauge_rainfall\")"
   ]
  },
  {
   "cell_type": "markdown",
   "id": "a16a0196-a834-408f-94e0-c62f753f1845",
   "metadata": {},
   "source": [
    "#### Get radar along CML data"
   ]
  },
  {
   "cell_type": "code",
   "execution_count": 15,
   "id": "dd90aeb1-3e43-426b-a6cd-c74a1d9d059b",
   "metadata": {},
   "outputs": [],
   "source": [
    "ds_radar = xr.open_dataset(\n",
    "    \"data/andersson_2022_OpenMRG/radar/radar.nc\"\n",
    ")\n",
    "# get rain rates from radar reflecitivity\n",
    "ds_radar[\"dBZ\"] = 0.4 * ds_radar.data - 30\n",
    "ds_radar[\"R\"] = (10 ** (ds_radar.data / 10) / 200) ** (5 / 8)\n",
    "\n",
    "#add lon lat grid\n",
    "x_grid, y_grid = np.meshgrid(ds_radar.x.values, ds_radar.y.values)\n",
    "transformer = pyproj.Transformer.from_crs(\n",
    "    \"+proj=stere +lat_ts=60 +ellps=bessel +lon_0=14 +lat_0=90\",\n",
    "    \"EPSG:4326\",\n",
    "    always_xy=True,\n",
    ")\n",
    "lon_grid, lat_grid = transformer.transform(xx=x_grid, yy=y_grid)\n",
    "\n",
    "ds_radar.coords[\"lon\"] = ((\"y\", \"x\"), lon_grid)\n",
    "ds_radar.coords[\"lat\"] = ((\"y\", \"x\"), lat_grid)"
   ]
  },
  {
   "cell_type": "code",
   "execution_count": 16,
   "id": "085aa18c-8422-483a-9a35-3cce0af6cb14",
   "metadata": {},
   "outputs": [],
   "source": [
    "da_intersect_weights = pycml.spatial.grid_intersection.calc_sparse_intersect_weights_for_several_cmls(\n",
    "    x1_line=ds_cml.site_0_lon.values,\n",
    "    y1_line=ds_cml.site_0_lat.values,\n",
    "    x2_line=ds_cml.site_1_lon.values,\n",
    "    y2_line=ds_cml.site_1_lat.values,\n",
    "    cml_id=ds_cml.cml_id.values,\n",
    "    x_grid=ds_radar.lon.values,\n",
    "    y_grid=ds_radar.lat.values,\n",
    "    grid_point_location='center',\n",
    ")\n",
    "da_radar_along_cmls = pycml.spatial.grid_intersection.get_grid_time_series_at_intersections(\n",
    "    grid_data=ds_radar.R,\n",
    "    intersect_weights=da_intersect_weights,\n",
    ")"
   ]
  },
  {
   "cell_type": "code",
   "execution_count": 17,
   "id": "25d15b7a-dbb9-48c6-ace7-f2fa3cc5bd42",
   "metadata": {},
   "outputs": [
    {
     "data": {
      "image/png": "[encoded data removed]",
      "text/plain": [
       "<Figure size 640x480 with 1 Axes>"
      ]
     },
     "metadata": {},
     "output_type": "display_data"
    }
   ],
   "source": [
    "# radar rainfall along one cml path\n",
    "da_radar_along_cmls.sel(cml_id=10001).plot(label='radar along CML rainfall (mm)')\n",
    "ds_cml.rsl.sel(cml_id=10001,sublink_id='sublink_1').plot(label='received signal level (dB)')\n",
    "plt.legend()\n",
    "plt.title('Radar rainfall and RSL along one cml path');"
   ]
  },
  {
   "cell_type": "code",
   "execution_count": 18,
   "id": "8138c246-204b-4b8c-99cc-cac3f0f2c6c0",
   "metadata": {},
   "outputs": [
    {
     "data": {
      "image/png": "[encoded data removed]",
      "text/plain": [
       "<Figure size 640x480 with 1 Axes>"
      ]
     },
     "metadata": {},
     "output_type": "display_data"
    }
   ],
   "source": [
    "(da_radar_along_cmls.sum(dim='time')/12).plot.hist(bins=np.linspace(180,250,15))\n",
    "plt.xlabel('mm')\n",
    "plt.ylabel('count')\n",
    "plt.title('Histogram of sum of radar along cml rainfall (mm)');"
   ]
  },
  {
   "cell_type": "code",
   "execution_count": 19,
   "id": "fcce6905-8e75-44a2-ae6f-bd22340ab54e",
   "metadata": {},
   "outputs": [],
   "source": [
    "# save radar along cml data\n",
    "ds_radar_along_cmls=da_radar_along_cmls.to_dataset(name='rainfall_amount')\n",
    "ds_radar_along_cmls.to_netcdf('data/andersson_2022_OpenMRG/radar/radar_along_cml.nc')"
   ]
  },
  {
   "cell_type": "code",
   "execution_count": 20,
   "id": "8d469cde-1fbe-4143-87ce-ef0e13c6d059",
   "metadata": {},
   "outputs": [],
   "source": [
    "# resample to 15 min \n",
    "ds_radar_along = ds_radar_along_cmls.resample(time='15min').sum().sel(time=reference_15min.time)/4"
   ]
  },
  {
   "cell_type": "code",
   "execution_count": 21,
   "id": "f54f268f-63df-4893-b691-c6d3e2aaa124",
   "metadata": {},
   "outputs": [],
   "source": [
    "# sort by cml_id before combining into one dataset\n",
    "reference_15min = reference_15min.sortby(reference_15min.cml_id)\n",
    "ds_radar_along =  ds_radar_along.sortby(ds_radar_along.cml_id)"
   ]
  },
  {
   "cell_type": "code",
   "execution_count": 22,
   "id": "c5fa9ab8-751f-4a23-be13-6f2ae07da28f",
   "metadata": {},
   "outputs": [],
   "source": [
    "# add radar_along_cml to reference dataset\n",
    "reference_15min['radar_along_cml'] = xr.full_like(reference_15min.rain_gauge_rainfall,fill_value=np.nan)\n",
    "\n",
    "reference_15min['radar_along_cml'].loc[dict(sublink_id='sublink_1')]=ds_radar_along.rainfall_amount\n",
    "reference_15min['radar_along_cml'].loc[dict(sublink_id='sublink_2')]=ds_radar_along.rainfall_amount"
   ]
  },
  {
   "cell_type": "code",
   "execution_count": 23,
   "id": "855f8598-94db-41e5-a214-5a8d66a28918",
   "metadata": {},
   "outputs": [
    {
     "data": {
      "image/png": "[encoded data removed]",
      "text/plain": [
       "<Figure size 500x400 with 2 Axes>"
      ]
     },
     "metadata": {},
     "output_type": "display_data"
    }
   ],
   "source": [
    "plt.subplots(figsize=(5,4))\n",
    "plt.hexbin(\n",
    "    reference_15min.rain_gauge_rainfall.resample(time='1d').sum().values.flatten(),\n",
    "    reference_15min.radar_along_cml.resample(time='1d').sum().values.flatten(),\n",
    "    mincnt=1,bins='log',gridsize=50,extent=[0,100,0,100])\n",
    "plt.xlim(0,100)\n",
    "plt.ylim(0,100)\n",
    "plt.xlabel('rain gauge reference (mm/15min)')\n",
    "plt.ylabel('radar reference (mm/15min)')\n",
    "plt.colorbar();"
   ]
  },
  {
   "cell_type": "code",
   "execution_count": 27,
   "id": "1265054c-dc73-4bf1-a29e-72fe17381835",
   "metadata": {},
   "outputs": [],
   "source": [
    "# save CML file with right formatting\n",
    "ds_cml.to_netcdf('data/andersson_2022_OpenMRG/openMRG_cml.nc')\n",
    "# save reference file\n",
    "reference_15min.to_netcdf('data/andersson_2022_OpenMRG/radar_gauge_15min_reference.nc')"
   ]
  },
  {
   "cell_type": "markdown",
   "id": "b07045da-ba96-48ff-a99f-1794909cac14",
   "metadata": {},
   "source": [
    "## 1.2 Download OpenRainER dataset and prepare files with month with liqiud rain only"
   ]
  },
  {
   "cell_type": "code",
   "execution_count": 2,
   "id": "d2185022-db2d-4b56-b540-4f0c509355ed",
   "metadata": {},
   "outputs": [],
   "source": [
    "# Prepare Station data"
   ]
  },
  {
   "cell_type": "code",
   "execution_count": 3,
   "id": "b92bcdbd-2340-4660-a98d-4ac6a398c615",
   "metadata": {},
   "outputs": [
    {
     "name": "stdout",
     "output_type": "stream",
     "text": [
      "File already exists at desired location /bg/data/CML/data/other_data/OpenRainER/files-archive\n",
      "Not downloading!\n"
     ]
    }
   ],
   "source": [
    "# storing to external datasource as this is big due to the radar ref\n",
    "oddt.download_data_file(\n",
    "    url=\"https://zenodo.org/api/records/10610886/files-archive\",\n",
    "    local_path=\"/bg/data/CML/data/other_data/OpenRainER/\", print_output=True\n",
    ")"
   ]
  },
  {
   "cell_type": "code",
   "execution_count": 4,
   "id": "041f1852-e4c5-4439-8b4b-730c6f1fa822",
   "metadata": {},
   "outputs": [],
   "source": [
    "dir = '/bg/data/CML/data/other_data/OpenRainER/'"
   ]
  },
  {
   "cell_type": "code",
   "execution_count": 5,
   "id": "b41c677a-24df-4297-9751-e4fc992bb4c3",
   "metadata": {},
   "outputs": [],
   "source": [
    "# unzip downloaded file\n",
    "with zipfile.ZipFile(dir+'files-archive') as zfile:\n",
    "    zfile.extractall(dir)\n",
    "\n",
    "# unzip through all files in the directory\n",
    "for filename in os.listdir(dir):\n",
    "    # Check if the file has a .gz extension\n",
    "    if filename.endswith('.gz'):\n",
    "        gz_path = os.path.join(dir, filename)\n",
    "        unzipped_path = os.path.join(dir, filename[:-3])  # Remove the .gz extension\n",
    "        \n",
    "        # Unzip the file\n",
    "        with gzip.open(gz_path, 'rb') as f_in:\n",
    "            with open(unzipped_path, 'wb') as f_out:\n",
    "                shutil.copyfileobj(f_in, f_out)\n",
    "        \n",
    "        # Delete the original .gz file\n",
    "        os.remove(gz_path)"
   ]
  },
  {
   "cell_type": "code",
   "execution_count": 6,
   "id": "78d055dc-8b41-461e-a36e-906b22232306",
   "metadata": {},
   "outputs": [],
   "source": [
    "fns = sorted(glob.glob(dir+\"/AWS_2*\"))"
   ]
  },
  {
   "cell_type": "code",
   "execution_count": 7,
   "id": "a3668944-fe82-41fa-859d-b33dbef00604",
   "metadata": {},
   "outputs": [
    {
     "name": "stderr",
     "output_type": "stream",
     "text": [
      "100%|█████████████████████████████████████████████████████████████████████████████████████████████████████████████████████████████████████| 24/24 [00:00<00:00, 48.02it/s]\n",
      "100%|█████████████████████████████████████████████████████████████████████████████████████████████████████████████████████████████████████| 24/24 [00:01<00:00, 19.86it/s]\n"
     ]
    }
   ],
   "source": [
    "ids=[]\n",
    "for fn in tqdm(fns):\n",
    "    tmp = xr.open_dataset(fn)\n",
    "    ids.append(set(tmp.id.values))\n",
    "common_ids = list(set.intersection(*ids))\n",
    "\n",
    "rainfall=[]\n",
    "for fn in tqdm(fns):\n",
    "    tmp = xr.open_dataset(fn)\n",
    "    tmp = tmp.sel(id=common_ids)\n",
    "    rainfall.append(tmp.rainfall_amount.load())\n"
   ]
  },
  {
   "cell_type": "code",
   "execution_count": 8,
   "id": "624cd06d-257a-490b-9bd7-6fa6e07f8aa1",
   "metadata": {},
   "outputs": [],
   "source": [
    "ds_rainfall = xr.concat(rainfall,dim='time')\n",
    "ds_rainfall.to_netcdf(dir+\"AWS_rainfall.nc\")"
   ]
  },
  {
   "cell_type": "code",
   "execution_count": 9,
   "id": "003aeb93-1c0a-4bbe-9fc5-f4f0bcedd8d1",
   "metadata": {},
   "outputs": [
    {
     "data": {
      "image/png": "[encoded data removed]",
      "text/plain": [
       "<Figure size 640x480 with 1 Axes>"
      ]
     },
     "metadata": {},
     "output_type": "display_data"
    }
   ],
   "source": [
    "ds_rainfall.mean(dim='id').plot()\n",
    "plt.title('Mean rainfall at rain gauges (mm)');"
   ]
  },
  {
   "cell_type": "code",
   "execution_count": 10,
   "id": "6cae64c1-2d67-4c25-9b89-0e6bf281c2b9",
   "metadata": {},
   "outputs": [],
   "source": [
    "ds_rainfall.to_netcdf('data/covi_2024_OpenRainER/AWS_rainfall.nc')"
   ]
  },
  {
   "cell_type": "markdown",
   "id": "d519f14d-9a5a-474f-ba5b-d576aeafc7cd",
   "metadata": {},
   "source": [
    "#### Merge cmls to one dataset"
   ]
  },
  {
   "cell_type": "code",
   "execution_count": 11,
   "id": "aa39a141-428a-4eba-b0a3-a2cee4ebd121",
   "metadata": {},
   "outputs": [
    {
     "name": "stderr",
     "output_type": "stream",
     "text": [
      "100%|█████████████████████████████████████████████████████████████████████████████████████████████████████████████████████████████████████| 24/24 [00:00<00:00, 31.84it/s]\n",
      "100%|█████████████████████████████████████████████████████████████████████████████████████████████████████████████████████████████████████| 24/24 [00:06<00:00,  3.55it/s]\n"
     ]
    }
   ],
   "source": [
    "fns = sorted(glob.glob(dir+\"CML_20*\"))\n",
    "ids=[]\n",
    "for fn in tqdm(fns):\n",
    "    tmp = xr.open_dataset(fn)\n",
    "    ids.append(set(tmp.cml_id.values))\n",
    "common_ids = list(set.intersection(*ids))\n",
    "\n",
    "cmls=[]\n",
    "for fn in tqdm(fns):\n",
    "    tmp = xr.open_dataset(fn) \n",
    "    tmp = tmp.sel(cml_id=common_ids)\n",
    "    cmls.append(tmp.load())\n"
   ]
  },
  {
   "cell_type": "code",
   "execution_count": 12,
   "id": "ebf9079e-1363-4eab-9a7d-11c7d97d6f02",
   "metadata": {},
   "outputs": [],
   "source": [
    "ds_cmls = xr.concat(cmls,dim='time')"
   ]
  },
  {
   "cell_type": "code",
   "execution_count": 13,
   "id": "118412dc-3cce-485c-972f-2cc92c564867",
   "metadata": {},
   "outputs": [],
   "source": [
    "ds_cmls['frequency'] = ds_cmls['frequency'].isel(time=1).drop_vars('time')\n",
    "ds_cmls['polarization'] = ds_cmls['polarization'].isel(time=1).drop_vars('time')"
   ]
  },
  {
   "cell_type": "code",
   "execution_count": 14,
   "id": "12edef67-f54d-4260-940f-ff032733b056",
   "metadata": {},
   "outputs": [
    {
     "data": {
      "text/plain": [
       "4.749187768"
      ]
     },
     "execution_count": 14,
     "metadata": {},
     "output_type": "execute_result"
    }
   ],
   "source": [
    "ds_cmls.nbytes/1e9"
   ]
  },
  {
   "cell_type": "code",
   "execution_count": 15,
   "id": "cf8f95e4-45e6-49b0-88b0-3f4c08da7edb",
   "metadata": {},
   "outputs": [],
   "source": [
    "ds_cmls.to_netcdf(\"data/covi_2024_OpenRainER/OpenRainER_cmls.nc\")"
   ]
  },
  {
   "cell_type": "markdown",
   "id": "f9d16f35-0528-4873-9ce2-cefdaea58b53",
   "metadata": {},
   "source": [
    "#### Extracting radar along CML path for each month\n",
    "from raw files again as its more meory efficient.."
   ]
  },
  {
   "cell_type": "code",
   "execution_count": 16,
   "id": "fb20e3e6-a7e1-49d7-8a5b-008f53c43568",
   "metadata": {},
   "outputs": [],
   "source": [
    "dir = '/bg/data/CML/data/other_data/OpenRainER/'\n",
    "\n",
    "fns_cml = glob.glob(dir+\"/CML_2*\")\n",
    "fns_radar = glob.glob(dir+\"/RADadj_2*\")"
   ]
  },
  {
   "cell_type": "code",
   "execution_count": 17,
   "id": "f155ee3f-016b-4fb6-8765-7715f75fddf4",
   "metadata": {},
   "outputs": [
    {
     "data": {
      "text/plain": [
       "True"
      ]
     },
     "execution_count": 17,
     "metadata": {},
     "output_type": "execute_result"
    }
   ],
   "source": [
    "len(fns_cml) == len(fns_radar)"
   ]
  },
  {
   "cell_type": "code",
   "execution_count": 18,
   "id": "e25af6d9-4c22-4514-915b-b47bede2bdf6",
   "metadata": {},
   "outputs": [
    {
     "name": "stderr",
     "output_type": "stream",
     "text": [
      "100%|█████████████████████████████████████████████████████████████████████████████████████████████████████████████████████████████████████| 24/24 [00:00<00:00, 34.72it/s]\n"
     ]
    }
   ],
   "source": [
    "fns = sorted(glob.glob(\"/bg/data/CML/data/other_data/OpenRainER/CML_20*\"))\n",
    "ids=[]\n",
    "for fn in tqdm(fns):\n",
    "    tmp = xr.open_dataset(fn)\n",
    "    ids.append(set(tmp.cml_id.values))\n",
    "common_ids = list(set.intersection(*ids))"
   ]
  },
  {
   "cell_type": "code",
   "execution_count": null,
   "id": "0645e531-e3b9-42e1-9fc6-e2e0f2b95532",
   "metadata": {},
   "outputs": [
    {
     "name": "stderr",
     "output_type": "stream",
     "text": [
      "  0%|                                                                                                                                              | 0/24 [00:00<?, ?it/s]"
     ]
    }
   ],
   "source": [
    "list_radar_along_cmls=[]\n",
    "count=[]\n",
    "for i in tqdm(range(len(fns_cml))):\n",
    "    ds_cml = xr.open_dataset(fns_cml[i]).sel(cml_id=common_ids)\n",
    "    ds_radar = xr.open_dataset(fns_radar[i])\n",
    "    # remove unnecessary cords and variables\n",
    "    ds_radar = ds_radar.drop_vars(['geo_dim','mesh_dim','mosaic'])\n",
    "    #add lon lat grid\n",
    "    lon_grid, lat_grid = np.meshgrid(ds_radar.lon.values, ds_radar.lat.values)\n",
    "    count.append(len(ds_radar.time))\n",
    "    ds_radar.coords[\"lon_grid\"] = ((\"lat\", \"lon\"), lon_grid)\n",
    "    ds_radar.coords[\"lat_grid\"] = ((\"lat\", \"lon\"), lat_grid)\n",
    "\n",
    "    # calculate intersection weights\n",
    "    da_intersect_weights = pycml.spatial.grid_intersection.calc_sparse_intersect_weights_for_several_cmls(\n",
    "        x1_line=ds_cml.site_0_lon.values,\n",
    "        y1_line=ds_cml.site_0_lat.values,\n",
    "        x2_line=ds_cml.site_1_lon.values,\n",
    "        y2_line=ds_cml.site_1_lat.values,\n",
    "        cml_id=ds_cml.cml_id.values,\n",
    "        x_grid=ds_radar.lon_grid.values,\n",
    "        y_grid=ds_radar.lat_grid.values,\n",
    "        grid_point_location='center',\n",
    "    )\n",
    "    # calculate rainfall along intersectons\n",
    "    list_radar_along_cmls.append(pycml.spatial.grid_intersection.get_grid_time_series_at_intersections(\n",
    "        grid_data=ds_radar.rainfall_amount,\n",
    "        intersect_weights=da_intersect_weights,\n",
    "    ))\n",
    "    "
   ]
  },
  {
   "cell_type": "code",
   "execution_count": null,
   "id": "1e036fde-c903-433a-9c58-cb141391b617",
   "metadata": {},
   "outputs": [],
   "source": [
    "ds = xr.concat(list_radar_along_cmls,dim='time').to_dataset(name='rainfall_amount')"
   ]
  },
  {
   "cell_type": "code",
   "execution_count": null,
   "id": "8cbf8018-4761-4441-aa44-8583cf8ef598",
   "metadata": {},
   "outputs": [],
   "source": [
    "# fill in missing time steps\n",
    "ds = ds.reindex({'time':pd.date_range(ds.time.min().values,ds.time.max().values,freq='15min')})"
   ]
  },
  {
   "cell_type": "code",
   "execution_count": null,
   "id": "74603c3e-04f3-47f6-b423-8e84854790e4",
   "metadata": {},
   "outputs": [],
   "source": [
    "ds.rainfall_amount.sum(dim='time').plot.hist(bins=40)\n",
    "plt.title('Histogram of sum of radar along cml rainfall (mm)');"
   ]
  },
  {
   "cell_type": "code",
   "execution_count": null,
   "id": "88aca149-c923-4831-a052-fb0e3cb3983c",
   "metadata": {},
   "outputs": [],
   "source": [
    "ds.to_netcdf(\"data/covi_2024_OpenRainER/RADadj_along_cml.nc\")"
   ]
  },
  {
   "cell_type": "markdown",
   "id": "90c08e46-8b4c-4714-b9c8-40f3c1a5a4fc",
   "metadata": {},
   "source": [
    "#### Prepare data for analysis\n"
   ]
  },
  {
   "cell_type": "code",
   "execution_count": null,
   "id": "31072b3c-98af-4027-97a1-61e2bf38d37f",
   "metadata": {},
   "outputs": [],
   "source": [
    "ds_gauges=xr.open_dataset(\"data/covi_2024_OpenRainER/AWS_rainfall.nc\").rainfall_amount.load()\n",
    "ds_gauges=ds_gauges.where(ds_gauges.time.dt.month.isin([4,5,6,7,8,9,10]), drop=True)"
   ]
  },
  {
   "cell_type": "code",
   "execution_count": null,
   "id": "65a5c1b8-0a14-4062-96fb-703aaea6896b",
   "metadata": {},
   "outputs": [],
   "source": [
    "ds_cml=xr.open_dataset(\"data/covi_2024_OpenRainER/OpenRainER_cmls.nc\").load()\n",
    "ds_cml=ds_cml.where(ds_cml.time.dt.month.isin([4,5,6,7,8,9,10]), drop=True)"
   ]
  },
  {
   "cell_type": "code",
   "execution_count": null,
   "id": "ec050119-d2a9-4481-b77d-5f92d481877a",
   "metadata": {},
   "outputs": [],
   "source": [
    "ds_radar_along=xr.open_dataset(\"data/covi_2024_OpenRainER/RADadj_along_cml.nc\").load()\n",
    "ds_radar_along=ds_radar_along.where(ds_radar_along.time.dt.month.isin([4,5,6,7,8,9,10]), drop=True)"
   ]
  },
  {
   "cell_type": "markdown",
   "id": "35d3b59f-55d6-4a4f-bef4-98b041f60b14",
   "metadata": {},
   "source": [
    "#### Calculate distance between rain gauges and CMLs using [`poligrain`](https://poligrain.readthedocs.io/en/latest/index.html)"
   ]
  },
  {
   "cell_type": "code",
   "execution_count": null,
   "id": "72bb659a-e3e4-4718-9fc1-c877d042d224",
   "metadata": {},
   "outputs": [],
   "source": [
    "# Project coordinates for rain gauges\n",
    "ds_gauges.coords[\"x\"], ds_gauges.coords[\"y\"] = plg.spatial.project_point_coordinates(\n",
    "    ds_gauges.longitude, ds_gauges.latitude, \"EPSG:25832\"\n",
    ")\n",
    "\n",
    "# Project coordinates for CMLs\n",
    "(\n",
    "    ds_cml.coords[\"site_0_x\"],\n",
    "    ds_cml.coords[\"site_0_y\"],\n",
    ") = plg.spatial.project_point_coordinates(\n",
    "    ds_cml.site_0_lon, ds_cml.site_0_lat, \"EPSG:25832\"\n",
    ")\n",
    "(\n",
    "    ds_cml.coords[\"site_1_x\"],\n",
    "    ds_cml.coords[\"site_1_y\"],\n",
    ") = plg.spatial.project_point_coordinates(\n",
    "    ds_cml.site_1_lon, ds_cml.site_1_lat, \"EPSG:25832\"\n",
    ")"
   ]
  },
  {
   "cell_type": "code",
   "execution_count": null,
   "id": "b1aede6d-0bbc-49ea-a5d6-1f799c7bb854",
   "metadata": {},
   "outputs": [],
   "source": [
    "max_distance = 2000  # in meters due to the projection EPSG:25832\n",
    "closest_neigbors = plg.spatial.get_closest_points_to_line(\n",
    "    ds_cml, ds_gauges, max_distance=max_distance, n_closest=1\n",
    ")"
   ]
  },
  {
   "cell_type": "code",
   "execution_count": null,
   "id": "3e4c99c1-bdc0-4974-903d-5a5286a51733",
   "metadata": {},
   "outputs": [],
   "source": [
    "# remove all cml - gauge pairs that are not within 2 km\n",
    "closest_neigbors = closest_neigbors.where(closest_neigbors.neighbor_id != None,drop=True)"
   ]
  },
  {
   "cell_type": "markdown",
   "id": "df44afab-74d8-41ea-9cf0-a93c02003540",
   "metadata": {},
   "source": [
    "####  Perpare reference data"
   ]
  },
  {
   "cell_type": "code",
   "execution_count": null,
   "id": "983f63d1-c7d4-4ba8-b6f5-6b8c6b6355fe",
   "metadata": {},
   "outputs": [],
   "source": [
    "# getting the rain gauge time series from the nearest rain gauge for each CML (within 2 km)\n",
    "reference_15min = xr.full_like(ds_cml.rsl, fill_value=np.nan).resample(time='15min').first().where(ds_gauges.time.dt.month.isin([4,5,6,7,8,9,10]), drop=True)"
   ]
  },
  {
   "cell_type": "code",
   "execution_count": null,
   "id": "698ce87a-681a-4e3d-adf9-e82e963dca9f",
   "metadata": {},
   "outputs": [],
   "source": [
    "for cmlid in tqdm(closest_neigbors.cml_id):\n",
    "    tmp_ga_rain = (np.repeat(\n",
    "        ds_gauges.sel(time=reference_15min.time).sel(id=closest_neigbors.sel(cml_id=cmlid).neighbor_id.values).values[:, np.newaxis],\n",
    "        2,\n",
    "        axis=1,))\n",
    "    reference_15min.loc[dict(cml_id=cmlid)] = tmp_ga_rain[0]\n",
    "\n",
    "reference_15min = reference_15min.to_dataset(name='rain_gauge_rainfall')"
   ]
  },
  {
   "cell_type": "code",
   "execution_count": null,
   "id": "5373e973-7787-4c98-9b07-6bd32aae13c6",
   "metadata": {},
   "outputs": [],
   "source": [
    "# sort by cml_id before combining into one dataset\n",
    "reference_15min = reference_15min.sortby(reference_15min.cml_id)\n",
    "ds_radar_along =  ds_radar_along.sortby(ds_radar_along.cml_id)"
   ]
  },
  {
   "cell_type": "code",
   "execution_count": null,
   "id": "37eda85c-69cf-4bf9-8980-2430ea2e59db",
   "metadata": {},
   "outputs": [],
   "source": [
    "# add radar_along_cml to reference dataset\n",
    "reference_15min['radar_along_cml'] = xr.full_like(reference_15min.rain_gauge_rainfall,fill_value=np.nan)\n",
    "\n",
    "reference_15min['radar_along_cml'].loc[dict(sublink_id='channel1')]=ds_radar_along.rainfall_amount.T\n",
    "reference_15min['radar_along_cml'].loc[dict(sublink_id='channel2')]=ds_radar_along.rainfall_amount.T"
   ]
  },
  {
   "cell_type": "code",
   "execution_count": null,
   "id": "d14cb3be-dd04-46f2-a510-0b7fc42ae3d4",
   "metadata": {},
   "outputs": [],
   "source": [
    "plt.subplots(figsize=(5,4))\n",
    "plt.hexbin(\n",
    "    reference_15min.rain_gauge_rainfall.values.flatten(),\n",
    "    reference_15min.radar_along_cml.values.flatten(),\n",
    "    mincnt=1,bins='log')\n",
    "plt.xlim(0,25)\n",
    "plt.ylim(0,25)\n",
    "plt.xlabel('rain gauge reference (mm/15min)')\n",
    "plt.ylabel('radar reference (mm/15min)')\n",
    "plt.colorbar();"
   ]
  },
  {
   "cell_type": "code",
   "execution_count": null,
   "id": "7f21aad2-7d1c-463b-b9c1-cad4a6900a36",
   "metadata": {},
   "outputs": [],
   "source": [
    "# save reference file\n",
    "reference_15min.to_netcdf('data/covi_2024_OpenRainER/radar_gauge_15min_reference.nc')"
   ]
  },
  {
   "cell_type": "code",
   "execution_count": 1,
   "id": "11732cde-63ec-4a8a-a1f9-d47842eac7ae",
   "metadata": {},
   "outputs": [
    {
     "name": "stdout",
     "output_type": "stream",
     "text": [
      "/bg/home/graf-m/notebooks/cml_method_comparison/waa_comparison/repo\n"
     ]
    }
   ],
   "source": [
    "!pwd"
   ]
  },
  {
   "cell_type": "code",
   "execution_count": null,
   "id": "d3d6f0d0-8d78-4d3e-b0b6-1288d48a67c4",
   "metadata": {},
   "outputs": [],
   "source": []
  }
 ],
 "metadata": {
  "kernelspec": {
   "display_name": "Python 3 (ipykernel)",
   "language": "python",
   "name": "python3"
  },
  "language_info": {
   "codemirror_mode": {
    "name": "ipython",
    "version": 3
   },
   "file_extension": ".py",
   "mimetype": "text/x-python",
   "name": "python",
   "nbconvert_exporter": "python",
   "pygments_lexer": "ipython3",
   "version": "3.11.7"
  }
 },
 "nbformat": 4,
 "nbformat_minor": 5
}
